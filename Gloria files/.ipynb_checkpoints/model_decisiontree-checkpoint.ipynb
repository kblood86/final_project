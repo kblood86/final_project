{
 "cells": [
  {
   "cell_type": "code",
   "execution_count": 1,
   "source": [
    "from sklearn import preprocessing\r\n",
    "from sklearn.model_selection import train_test_split\r\n",
    "from sklearn.ensemble import RandomForestClassifier\r\n",
    "from sklearn.metrics import accuracy_score\r\n",
    "from sklearn.tree import DecisionTreeClassifier\r\n",
    "from sklearn.metrics import classification_report\r\n",
    "from sklearn.metrics import confusion_matrix\r\n",
    "from sklearn.model_selection import cross_val_score\r\n",
    "from sklearn.model_selection import cross_val_predict\r\n",
    "from sklearn.metrics import average_precision_score, recall_score\r\n",
    "from sklearn.metrics import f1_score\r\n",
    "from sklearn.datasets import make_regression\r\n",
    "from sklearn.ensemble import GradientBoostingRegressor\r\n",
    "import joblib\r\n",
    "import pickle\r\n"
   ],
   "outputs": [],
   "metadata": {}
  },
  {
   "cell_type": "code",
   "execution_count": 2,
   "source": [
    "# Update sklearn to prevent version mismatches\r\n",
    "!pip install sklearn --upgrade"
   ],
   "outputs": [
    {
     "output_type": "stream",
     "name": "stdout",
     "text": [
      "Requirement already up-to-date: sklearn in c:\\users\\glori\\anaconda3\\lib\\site-packages (0.0)\n",
      "Requirement already satisfied, skipping upgrade: scikit-learn in c:\\users\\glori\\anaconda3\\lib\\site-packages (from sklearn) (0.23.2)\n",
      "Requirement already satisfied, skipping upgrade: numpy>=1.13.3 in c:\\users\\glori\\anaconda3\\lib\\site-packages (from scikit-learn->sklearn) (1.19.2)\n",
      "Requirement already satisfied, skipping upgrade: threadpoolctl>=2.0.0 in c:\\users\\glori\\anaconda3\\lib\\site-packages (from scikit-learn->sklearn) (2.1.0)\n",
      "Requirement already satisfied, skipping upgrade: joblib>=0.11 in c:\\users\\glori\\anaconda3\\lib\\site-packages (from scikit-learn->sklearn) (0.17.0)\n",
      "Requirement already satisfied, skipping upgrade: scipy>=0.19.1 in c:\\users\\glori\\anaconda3\\lib\\site-packages (from scikit-learn->sklearn) (1.5.2)\n"
     ]
    }
   ],
   "metadata": {}
  },
  {
   "cell_type": "code",
   "execution_count": 3,
   "source": [
    "# install joblib. This will be used to save your model. \r\n",
    "# Restart your kernel after installing \r\n",
    "!pip install joblib"
   ],
   "outputs": [
    {
     "output_type": "stream",
     "name": "stdout",
     "text": [
      "Requirement already satisfied: joblib in c:\\users\\glori\\anaconda3\\lib\\site-packages (0.17.0)\n"
     ]
    }
   ],
   "metadata": {}
  },
  {
   "cell_type": "code",
   "execution_count": 4,
   "source": [
    "import re\r\n",
    "import os\r\n",
    "\r\n",
    "import pandas as pd\r\n",
    "import numpy as np\r\n",
    "import seaborn as sns\r\n",
    "import matplotlib.pyplot as plt\r\n",
    "import datetime as dt\r\n",
    "\r\n"
   ],
   "outputs": [],
   "metadata": {}
  },
  {
   "cell_type": "code",
   "execution_count": 5,
   "source": [
    "file_path = \"Data/model_1_combine_data.csv\"\r\n"
   ],
   "outputs": [],
   "metadata": {}
  },
  {
   "cell_type": "code",
   "execution_count": 6,
   "source": [
    "my_data = pd.read_csv(file_path, error_bad_lines=False, low_memory=False)\r\n",
    "my_data"
   ],
   "outputs": [
    {
     "output_type": "execute_result",
     "data": {
      "text/html": [
       "<div>\n",
       "<style scoped>\n",
       "    .dataframe tbody tr th:only-of-type {\n",
       "        vertical-align: middle;\n",
       "    }\n",
       "\n",
       "    .dataframe tbody tr th {\n",
       "        vertical-align: top;\n",
       "    }\n",
       "\n",
       "    .dataframe thead th {\n",
       "        text-align: right;\n",
       "    }\n",
       "</style>\n",
       "<table border=\"1\" class=\"dataframe\">\n",
       "  <thead>\n",
       "    <tr style=\"text-align: right;\">\n",
       "      <th></th>\n",
       "      <th>Unnamed: 0</th>\n",
       "      <th>Amount_Requested</th>\n",
       "      <th>Risk_Score</th>\n",
       "      <th>debt_to_income_ratio</th>\n",
       "      <th>State</th>\n",
       "      <th>Employment_Length</th>\n",
       "      <th>Purpose</th>\n",
       "      <th>Loan_Status</th>\n",
       "    </tr>\n",
       "  </thead>\n",
       "  <tbody>\n",
       "    <tr>\n",
       "      <th>0</th>\n",
       "      <td>421097</td>\n",
       "      <td>5000.0</td>\n",
       "      <td>669.0</td>\n",
       "      <td>21.80</td>\n",
       "      <td>OK</td>\n",
       "      <td>8</td>\n",
       "      <td>other</td>\n",
       "      <td>Accepted</td>\n",
       "    </tr>\n",
       "    <tr>\n",
       "      <th>1</th>\n",
       "      <td>421098</td>\n",
       "      <td>15000.0</td>\n",
       "      <td>704.0</td>\n",
       "      <td>18.29</td>\n",
       "      <td>FL</td>\n",
       "      <td>2</td>\n",
       "      <td>debt_consolidation</td>\n",
       "      <td>Accepted</td>\n",
       "    </tr>\n",
       "    <tr>\n",
       "      <th>2</th>\n",
       "      <td>421099</td>\n",
       "      <td>11200.0</td>\n",
       "      <td>669.0</td>\n",
       "      <td>43.97</td>\n",
       "      <td>NH</td>\n",
       "      <td>0</td>\n",
       "      <td>medical</td>\n",
       "      <td>Accepted</td>\n",
       "    </tr>\n",
       "    <tr>\n",
       "      <th>3</th>\n",
       "      <td>421100</td>\n",
       "      <td>25000.0</td>\n",
       "      <td>669.0</td>\n",
       "      <td>12.89</td>\n",
       "      <td>AL</td>\n",
       "      <td>10</td>\n",
       "      <td>debt_consolidation</td>\n",
       "      <td>Accepted</td>\n",
       "    </tr>\n",
       "    <tr>\n",
       "      <th>4</th>\n",
       "      <td>421101</td>\n",
       "      <td>3000.0</td>\n",
       "      <td>764.0</td>\n",
       "      <td>0.58</td>\n",
       "      <td>WA</td>\n",
       "      <td>9</td>\n",
       "      <td>major_purchase</td>\n",
       "      <td>Accepted</td>\n",
       "    </tr>\n",
       "    <tr>\n",
       "      <th>...</th>\n",
       "      <td>...</td>\n",
       "      <td>...</td>\n",
       "      <td>...</td>\n",
       "      <td>...</td>\n",
       "      <td>...</td>\n",
       "      <td>...</td>\n",
       "      <td>...</td>\n",
       "      <td>...</td>\n",
       "    </tr>\n",
       "    <tr>\n",
       "      <th>1081515</th>\n",
       "      <td>19698926</td>\n",
       "      <td>3000.0</td>\n",
       "      <td>535.0</td>\n",
       "      <td>1.54</td>\n",
       "      <td>CT</td>\n",
       "      <td>5</td>\n",
       "      <td>Medical expenses</td>\n",
       "      <td>Rejected</td>\n",
       "    </tr>\n",
       "    <tr>\n",
       "      <th>1081516</th>\n",
       "      <td>19698936</td>\n",
       "      <td>6000.0</td>\n",
       "      <td>580.0</td>\n",
       "      <td>5.55</td>\n",
       "      <td>TX</td>\n",
       "      <td>0</td>\n",
       "      <td>Car financing</td>\n",
       "      <td>Rejected</td>\n",
       "    </tr>\n",
       "    <tr>\n",
       "      <th>1081517</th>\n",
       "      <td>19698996</td>\n",
       "      <td>3000.0</td>\n",
       "      <td>561.0</td>\n",
       "      <td>0.00</td>\n",
       "      <td>OR</td>\n",
       "      <td>0</td>\n",
       "      <td>Debt consolidation</td>\n",
       "      <td>Rejected</td>\n",
       "    </tr>\n",
       "    <tr>\n",
       "      <th>1081518</th>\n",
       "      <td>19699052</td>\n",
       "      <td>2500.0</td>\n",
       "      <td>573.0</td>\n",
       "      <td>8.55</td>\n",
       "      <td>NY</td>\n",
       "      <td>0</td>\n",
       "      <td>Other</td>\n",
       "      <td>Rejected</td>\n",
       "    </tr>\n",
       "    <tr>\n",
       "      <th>1081519</th>\n",
       "      <td>19699073</td>\n",
       "      <td>2500.0</td>\n",
       "      <td>567.0</td>\n",
       "      <td>0.00</td>\n",
       "      <td>AL</td>\n",
       "      <td>2</td>\n",
       "      <td>Car financing</td>\n",
       "      <td>Rejected</td>\n",
       "    </tr>\n",
       "  </tbody>\n",
       "</table>\n",
       "<p>1081520 rows × 8 columns</p>\n",
       "</div>"
      ],
      "text/plain": [
       "         Unnamed: 0  Amount_Requested  Risk_Score  debt_to_income_ratio State  \\\n",
       "0            421097            5000.0       669.0                 21.80    OK   \n",
       "1            421098           15000.0       704.0                 18.29    FL   \n",
       "2            421099           11200.0       669.0                 43.97    NH   \n",
       "3            421100           25000.0       669.0                 12.89    AL   \n",
       "4            421101            3000.0       764.0                  0.58    WA   \n",
       "...             ...               ...         ...                   ...   ...   \n",
       "1081515    19698926            3000.0       535.0                  1.54    CT   \n",
       "1081516    19698936            6000.0       580.0                  5.55    TX   \n",
       "1081517    19698996            3000.0       561.0                  0.00    OR   \n",
       "1081518    19699052            2500.0       573.0                  8.55    NY   \n",
       "1081519    19699073            2500.0       567.0                  0.00    AL   \n",
       "\n",
       "         Employment_Length             Purpose Loan_Status  \n",
       "0                        8               other    Accepted  \n",
       "1                        2  debt_consolidation    Accepted  \n",
       "2                        0             medical    Accepted  \n",
       "3                       10  debt_consolidation    Accepted  \n",
       "4                        9      major_purchase    Accepted  \n",
       "...                    ...                 ...         ...  \n",
       "1081515                  5    Medical expenses    Rejected  \n",
       "1081516                  0       Car financing    Rejected  \n",
       "1081517                  0  Debt consolidation    Rejected  \n",
       "1081518                  0               Other    Rejected  \n",
       "1081519                  2       Car financing    Rejected  \n",
       "\n",
       "[1081520 rows x 8 columns]"
      ]
     },
     "metadata": {},
     "execution_count": 6
    }
   ],
   "metadata": {}
  },
  {
   "cell_type": "code",
   "execution_count": 7,
   "source": [
    "my_data['Loan_Status'].value_counts()"
   ],
   "outputs": [
    {
     "output_type": "execute_result",
     "data": {
      "text/plain": [
       "Rejected    628344\n",
       "Accepted    453176\n",
       "Name: Loan_Status, dtype: int64"
      ]
     },
     "metadata": {},
     "execution_count": 7
    }
   ],
   "metadata": {}
  },
  {
   "cell_type": "code",
   "execution_count": 8,
   "source": [
    "#Understanding the split the reject and accept applications\r\n",
    "print (my_data['Loan_Status'].value_counts(normalize=True))\r\n",
    "\r\n"
   ],
   "outputs": [
    {
     "output_type": "stream",
     "name": "stdout",
     "text": [
      "Rejected    0.580982\n",
      "Accepted    0.419018\n",
      "Name: Loan_Status, dtype: float64\n"
     ]
    }
   ],
   "metadata": {}
  },
  {
   "cell_type": "code",
   "execution_count": 9,
   "source": [
    "#predicting loan status creating countplot\r\n",
    "sns.countplot(x='Loan_Status', data=my_data)"
   ],
   "outputs": [
    {
     "output_type": "execute_result",
     "data": {
      "text/plain": [
       "<AxesSubplot:xlabel='Loan_Status', ylabel='count'>"
      ]
     },
     "metadata": {},
     "execution_count": 9
    },
    {
     "output_type": "display_data",
     "data": {
      "image/png": "[encoded data removed]",
      "text/plain": [
       "<Figure size 432x288 with 1 Axes>"
      ]
     },
     "metadata": {
      "needs_background": "light"
     }
    }
   ],
   "metadata": {}
  },
  {
   "cell_type": "code",
   "execution_count": 10,
   "source": [
    "#histogram of the loan amount\r\n",
    "plt.figure(figsize=(12,4))\r\n",
    "sns.distplot(my_data['Amount_Requested'], kde=False, bins=40)\r\n",
    "plt.xlim(0,45000)"
   ],
   "outputs": [
    {
     "output_type": "stream",
     "name": "stderr",
     "text": [
      "C:\\Users\\glori\\anaconda3\\lib\\site-packages\\seaborn\\distributions.py:2551: FutureWarning: `distplot` is a deprecated function and will be removed in a future version. Please adapt your code to use either `displot` (a figure-level function with similar flexibility) or `histplot` (an axes-level function for histograms).\n",
      "  warnings.warn(msg, FutureWarning)\n"
     ]
    },
    {
     "output_type": "execute_result",
     "data": {
      "text/plain": [
       "(0.0, 45000.0)"
      ]
     },
     "metadata": {},
     "execution_count": 10
    },
    {
     "output_type": "display_data",
     "data": {
      "image/png": "[encoded data removed]",
      "text/plain": [
       "<Figure size 864x288 with 1 Axes>"
      ]
     },
     "metadata": {
      "needs_background": "light"
     }
    }
   ],
   "metadata": {}
  },
  {
   "cell_type": "code",
   "execution_count": 11,
   "source": [
    "#what is the correlation b/t the variables\r\n",
    "my_data.corr()"
   ],
   "outputs": [
    {
     "output_type": "execute_result",
     "data": {
      "text/html": [
       "<div>\n",
       "<style scoped>\n",
       "    .dataframe tbody tr th:only-of-type {\n",
       "        vertical-align: middle;\n",
       "    }\n",
       "\n",
       "    .dataframe tbody tr th {\n",
       "        vertical-align: top;\n",
       "    }\n",
       "\n",
       "    .dataframe thead th {\n",
       "        text-align: right;\n",
       "    }\n",
       "</style>\n",
       "<table border=\"1\" class=\"dataframe\">\n",
       "  <thead>\n",
       "    <tr style=\"text-align: right;\">\n",
       "      <th></th>\n",
       "      <th>Unnamed: 0</th>\n",
       "      <th>Amount_Requested</th>\n",
       "      <th>Risk_Score</th>\n",
       "      <th>debt_to_income_ratio</th>\n",
       "      <th>Employment_Length</th>\n",
       "    </tr>\n",
       "  </thead>\n",
       "  <tbody>\n",
       "    <tr>\n",
       "      <th>Unnamed: 0</th>\n",
       "      <td>1.000000</td>\n",
       "      <td>-0.236809</td>\n",
       "      <td>-0.561502</td>\n",
       "      <td>0.019285</td>\n",
       "      <td>-0.613899</td>\n",
       "    </tr>\n",
       "    <tr>\n",
       "      <th>Amount_Requested</th>\n",
       "      <td>-0.236809</td>\n",
       "      <td>1.000000</td>\n",
       "      <td>0.310587</td>\n",
       "      <td>0.002001</td>\n",
       "      <td>0.190206</td>\n",
       "    </tr>\n",
       "    <tr>\n",
       "      <th>Risk_Score</th>\n",
       "      <td>-0.561502</td>\n",
       "      <td>0.310587</td>\n",
       "      <td>1.000000</td>\n",
       "      <td>-0.002608</td>\n",
       "      <td>0.449296</td>\n",
       "    </tr>\n",
       "    <tr>\n",
       "      <th>debt_to_income_ratio</th>\n",
       "      <td>0.019285</td>\n",
       "      <td>0.002001</td>\n",
       "      <td>-0.002608</td>\n",
       "      <td>1.000000</td>\n",
       "      <td>-0.021967</td>\n",
       "    </tr>\n",
       "    <tr>\n",
       "      <th>Employment_Length</th>\n",
       "      <td>-0.613899</td>\n",
       "      <td>0.190206</td>\n",
       "      <td>0.449296</td>\n",
       "      <td>-0.021967</td>\n",
       "      <td>1.000000</td>\n",
       "    </tr>\n",
       "  </tbody>\n",
       "</table>\n",
       "</div>"
      ],
      "text/plain": [
       "                      Unnamed: 0  Amount_Requested  Risk_Score  \\\n",
       "Unnamed: 0              1.000000         -0.236809   -0.561502   \n",
       "Amount_Requested       -0.236809          1.000000    0.310587   \n",
       "Risk_Score             -0.561502          0.310587    1.000000   \n",
       "debt_to_income_ratio    0.019285          0.002001   -0.002608   \n",
       "Employment_Length      -0.613899          0.190206    0.449296   \n",
       "\n",
       "                      debt_to_income_ratio  Employment_Length  \n",
       "Unnamed: 0                        0.019285          -0.613899  \n",
       "Amount_Requested                  0.002001           0.190206  \n",
       "Risk_Score                       -0.002608           0.449296  \n",
       "debt_to_income_ratio              1.000000          -0.021967  \n",
       "Employment_Length                -0.021967           1.000000  "
      ]
     },
     "metadata": {},
     "execution_count": 11
    }
   ],
   "metadata": {}
  },
  {
   "cell_type": "code",
   "execution_count": 12,
   "source": [
    "#correlation using heatmap\r\n",
    "plt.figure(figsize=(30, 6))\r\n",
    "sns.heatmap(my_data.corr(), annot=True, cmap='viridis')\r\n",
    "plt.xlim(10,0)"
   ],
   "outputs": [
    {
     "output_type": "execute_result",
     "data": {
      "text/plain": [
       "(10.0, 0.0)"
      ]
     },
     "metadata": {},
     "execution_count": 12
    },
    {
     "output_type": "display_data",
     "data": {
      "image/png": "[encoded data removed]",
      "text/plain": [
       "<Figure size 2160x432 with 2 Axes>"
      ]
     },
     "metadata": {
      "needs_background": "light"
     }
    }
   ],
   "metadata": {}
  },
  {
   "cell_type": "code",
   "execution_count": 13,
   "source": [
    "#boxplot showing relationship between the loan amount and loan status\r\n",
    "sns.boxplot(x='Loan_Status', y='Amount_Requested', data=my_data)"
   ],
   "outputs": [
    {
     "output_type": "execute_result",
     "data": {
      "text/plain": [
       "<AxesSubplot:xlabel='Loan_Status', ylabel='Amount_Requested'>"
      ]
     },
     "metadata": {},
     "execution_count": 13
    },
    {
     "output_type": "display_data",
     "data": {
      "image/png": "[encoded data removed]",
      "text/plain": [
       "<Figure size 432x288 with 1 Axes>"
      ]
     },
     "metadata": {
      "needs_background": "light"
     }
    }
   ],
   "metadata": {}
  },
  {
   "cell_type": "code",
   "execution_count": 14,
   "source": [
    "#Loan Amount, grouped by Loan Status\r\n",
    "my_data.groupby('Loan_Status')['Amount_Requested'].describe()"
   ],
   "outputs": [
    {
     "output_type": "execute_result",
     "data": {
      "text/html": [
       "<div>\n",
       "<style scoped>\n",
       "    .dataframe tbody tr th:only-of-type {\n",
       "        vertical-align: middle;\n",
       "    }\n",
       "\n",
       "    .dataframe tbody tr th {\n",
       "        vertical-align: top;\n",
       "    }\n",
       "\n",
       "    .dataframe thead th {\n",
       "        text-align: right;\n",
       "    }\n",
       "</style>\n",
       "<table border=\"1\" class=\"dataframe\">\n",
       "  <thead>\n",
       "    <tr style=\"text-align: right;\">\n",
       "      <th></th>\n",
       "      <th>count</th>\n",
       "      <th>mean</th>\n",
       "      <th>std</th>\n",
       "      <th>min</th>\n",
       "      <th>25%</th>\n",
       "      <th>50%</th>\n",
       "      <th>75%</th>\n",
       "      <th>max</th>\n",
       "    </tr>\n",
       "    <tr>\n",
       "      <th>Loan_Status</th>\n",
       "      <th></th>\n",
       "      <th></th>\n",
       "      <th></th>\n",
       "      <th></th>\n",
       "      <th></th>\n",
       "      <th></th>\n",
       "      <th></th>\n",
       "      <th></th>\n",
       "    </tr>\n",
       "  </thead>\n",
       "  <tbody>\n",
       "    <tr>\n",
       "      <th>Accepted</th>\n",
       "      <td>453176.0</td>\n",
       "      <td>16304.636995</td>\n",
       "      <td>10200.954582</td>\n",
       "      <td>1000.0</td>\n",
       "      <td>8500.0</td>\n",
       "      <td>14400.0</td>\n",
       "      <td>22825.0</td>\n",
       "      <td>40000.0</td>\n",
       "    </tr>\n",
       "    <tr>\n",
       "      <th>Rejected</th>\n",
       "      <td>628344.0</td>\n",
       "      <td>11385.468589</td>\n",
       "      <td>10647.183241</td>\n",
       "      <td>525.0</td>\n",
       "      <td>3000.0</td>\n",
       "      <td>8000.0</td>\n",
       "      <td>15500.0</td>\n",
       "      <td>90725.0</td>\n",
       "    </tr>\n",
       "  </tbody>\n",
       "</table>\n",
       "</div>"
      ],
      "text/plain": [
       "                count          mean           std     min     25%      50%  \\\n",
       "Loan_Status                                                                  \n",
       "Accepted     453176.0  16304.636995  10200.954582  1000.0  8500.0  14400.0   \n",
       "Rejected     628344.0  11385.468589  10647.183241   525.0  3000.0   8000.0   \n",
       "\n",
       "                 75%      max  \n",
       "Loan_Status                    \n",
       "Accepted     22825.0  40000.0  \n",
       "Rejected     15500.0  90725.0  "
      ]
     },
     "metadata": {},
     "execution_count": 14
    }
   ],
   "metadata": {}
  },
  {
   "cell_type": "code",
   "execution_count": 15,
   "source": [
    "#split of all categorical columns\r\n",
    "my_data['State'].value_counts().plot.bar(figsize=(20,5), title='State')\r\n",
    "plt.show()\r\n",
    "my_data['Purpose'].value_counts().plot.bar(figsize=(20,5), title='Purpose of Loan')\r\n",
    "plt.show()"
   ],
   "outputs": [
    {
     "output_type": "display_data",
     "data": {
      "image/png": "[encoded data removed]",
      "text/plain": [
       "<Figure size 1440x360 with 1 Axes>"
      ]
     },
     "metadata": {
      "needs_background": "light"
     }
    },
    {
     "output_type": "display_data",
     "data": {
      "image/png": "[encoded data removed]",
      "text/plain": [
       "<Figure size 1440x360 with 1 Axes>"
      ]
     },
     "metadata": {
      "needs_background": "light"
     }
    }
   ],
   "metadata": {}
  },
  {
   "cell_type": "code",
   "execution_count": 16,
   "source": [
    "#split of Numeric columns\r\n",
    "sns.distplot(my_data['Amount_Requested'])\r\n",
    "plt.show()"
   ],
   "outputs": [
    {
     "output_type": "stream",
     "name": "stderr",
     "text": [
      "C:\\Users\\glori\\anaconda3\\lib\\site-packages\\seaborn\\distributions.py:2551: FutureWarning: `distplot` is a deprecated function and will be removed in a future version. Please adapt your code to use either `displot` (a figure-level function with similar flexibility) or `histplot` (an axes-level function for histograms).\n",
      "  warnings.warn(msg, FutureWarning)\n"
     ]
    },
    {
     "output_type": "display_data",
     "data": {
      "image/png": "[encoded data removed]",
      "text/plain": [
       "<Figure size 432x288 with 1 Axes>"
      ]
     },
     "metadata": {
      "needs_background": "light"
     }
    }
   ],
   "metadata": {}
  },
  {
   "cell_type": "code",
   "execution_count": 17,
   "source": [
    "#split of numeric columns\r\n",
    "sns.distplot(my_data['Risk_Score'])\r\n",
    "plt.show()"
   ],
   "outputs": [
    {
     "output_type": "stream",
     "name": "stderr",
     "text": [
      "C:\\Users\\glori\\anaconda3\\lib\\site-packages\\seaborn\\distributions.py:2551: FutureWarning: `distplot` is a deprecated function and will be removed in a future version. Please adapt your code to use either `displot` (a figure-level function with similar flexibility) or `histplot` (an axes-level function for histograms).\n",
      "  warnings.warn(msg, FutureWarning)\n"
     ]
    },
    {
     "output_type": "display_data",
     "data": {
      "image/png": "[encoded data removed]",
      "text/plain": [
       "<Figure size 432x288 with 1 Axes>"
      ]
     },
     "metadata": {
      "needs_background": "light"
     }
    }
   ],
   "metadata": {}
  },
  {
   "cell_type": "code",
   "execution_count": 18,
   "source": [
    "# understanding split of all Numeric Columns \r\n",
    "sns.distplot(my_data['debt_to_income_ratio'])\r\n",
    "plt.show()\r\n",
    "\r\n",
    "print(my_data['debt_to_income_ratio'].max())\r\n",
    "print('---------------')\r\n",
    "print(my_data['debt_to_income_ratio'].min())\r\n",
    "print('---------------')\r\n",
    "print(my_data[['debt_to_income_ratio','Loan_Status']].sort_values(by='debt_to_income_ratio'))"
   ],
   "outputs": [
    {
     "output_type": "stream",
     "name": "stderr",
     "text": [
      "C:\\Users\\glori\\anaconda3\\lib\\site-packages\\seaborn\\distributions.py:2551: FutureWarning: `distplot` is a deprecated function and will be removed in a future version. Please adapt your code to use either `displot` (a figure-level function with similar flexibility) or `histplot` (an axes-level function for histograms).\n",
      "  warnings.warn(msg, FutureWarning)\n"
     ]
    },
    {
     "output_type": "display_data",
     "data": {
      "image/png": "[encoded data removed]",
      "text/plain": [
       "<Figure size 432x288 with 1 Axes>"
      ]
     },
     "metadata": {
      "needs_background": "light"
     }
    },
    {
     "output_type": "stream",
     "name": "stdout",
     "text": [
      "730426.5\n",
      "---------------\n",
      "0.0\n",
      "---------------\n",
      "         debt_to_income_ratio Loan_Status\n",
      "1081519                   0.0    Rejected\n",
      "72018                     0.0    Accepted\n",
      "912669                    0.0    Rejected\n",
      "912668                    0.0    Rejected\n",
      "912667                    0.0    Rejected\n",
      "...                       ...         ...\n",
      "752158               167650.0    Rejected\n",
      "922204               183650.0    Rejected\n",
      "810079               192200.0    Rejected\n",
      "811546               196100.0    Rejected\n",
      "783878               730426.5    Rejected\n",
      "\n",
      "[1081520 rows x 2 columns]\n"
     ]
    }
   ],
   "metadata": {}
  },
  {
   "cell_type": "code",
   "execution_count": 19,
   "source": [
    "#define categorical and numerical features\r\n",
    "categorical_features = ['State', 'Purpose', 'Loan_Status']\r\n",
    "\r\n",
    "numerical_features = ['Amount_Requested', 'Risk_Score', 'debt_to_income_ratio', 'Employment_Length']\r\n",
    "\r\n",
    "features = categorical_features + numerical_features\r\n",
    "\r\n",
    "#define the features\r\n",
    "print('Categorical Feature:\\t', len(categorical_features))\r\n",
    "print('Numerical Feature:\\t', len(numerical_features))\r\n",
    "print('Total Features:\\t\\t', len(features))"
   ],
   "outputs": [
    {
     "output_type": "stream",
     "name": "stdout",
     "text": [
      "Categorical Feature:\t 3\n",
      "Numerical Feature:\t 4\n",
      "Total Features:\t\t 7\n"
     ]
    }
   ],
   "metadata": {}
  },
  {
   "cell_type": "code",
   "execution_count": 20,
   "source": [
    "my_data"
   ],
   "outputs": [
    {
     "output_type": "execute_result",
     "data": {
      "text/html": [
       "<div>\n",
       "<style scoped>\n",
       "    .dataframe tbody tr th:only-of-type {\n",
       "        vertical-align: middle;\n",
       "    }\n",
       "\n",
       "    .dataframe tbody tr th {\n",
       "        vertical-align: top;\n",
       "    }\n",
       "\n",
       "    .dataframe thead th {\n",
       "        text-align: right;\n",
       "    }\n",
       "</style>\n",
       "<table border=\"1\" class=\"dataframe\">\n",
       "  <thead>\n",
       "    <tr style=\"text-align: right;\">\n",
       "      <th></th>\n",
       "      <th>Unnamed: 0</th>\n",
       "      <th>Amount_Requested</th>\n",
       "      <th>Risk_Score</th>\n",
       "      <th>debt_to_income_ratio</th>\n",
       "      <th>State</th>\n",
       "      <th>Employment_Length</th>\n",
       "      <th>Purpose</th>\n",
       "      <th>Loan_Status</th>\n",
       "    </tr>\n",
       "  </thead>\n",
       "  <tbody>\n",
       "    <tr>\n",
       "      <th>0</th>\n",
       "      <td>421097</td>\n",
       "      <td>5000.0</td>\n",
       "      <td>669.0</td>\n",
       "      <td>21.80</td>\n",
       "      <td>OK</td>\n",
       "      <td>8</td>\n",
       "      <td>other</td>\n",
       "      <td>Accepted</td>\n",
       "    </tr>\n",
       "    <tr>\n",
       "      <th>1</th>\n",
       "      <td>421098</td>\n",
       "      <td>15000.0</td>\n",
       "      <td>704.0</td>\n",
       "      <td>18.29</td>\n",
       "      <td>FL</td>\n",
       "      <td>2</td>\n",
       "      <td>debt_consolidation</td>\n",
       "      <td>Accepted</td>\n",
       "    </tr>\n",
       "    <tr>\n",
       "      <th>2</th>\n",
       "      <td>421099</td>\n",
       "      <td>11200.0</td>\n",
       "      <td>669.0</td>\n",
       "      <td>43.97</td>\n",
       "      <td>NH</td>\n",
       "      <td>0</td>\n",
       "      <td>medical</td>\n",
       "      <td>Accepted</td>\n",
       "    </tr>\n",
       "    <tr>\n",
       "      <th>3</th>\n",
       "      <td>421100</td>\n",
       "      <td>25000.0</td>\n",
       "      <td>669.0</td>\n",
       "      <td>12.89</td>\n",
       "      <td>AL</td>\n",
       "      <td>10</td>\n",
       "      <td>debt_consolidation</td>\n",
       "      <td>Accepted</td>\n",
       "    </tr>\n",
       "    <tr>\n",
       "      <th>4</th>\n",
       "      <td>421101</td>\n",
       "      <td>3000.0</td>\n",
       "      <td>764.0</td>\n",
       "      <td>0.58</td>\n",
       "      <td>WA</td>\n",
       "      <td>9</td>\n",
       "      <td>major_purchase</td>\n",
       "      <td>Accepted</td>\n",
       "    </tr>\n",
       "    <tr>\n",
       "      <th>...</th>\n",
       "      <td>...</td>\n",
       "      <td>...</td>\n",
       "      <td>...</td>\n",
       "      <td>...</td>\n",
       "      <td>...</td>\n",
       "      <td>...</td>\n",
       "      <td>...</td>\n",
       "      <td>...</td>\n",
       "    </tr>\n",
       "    <tr>\n",
       "      <th>1081515</th>\n",
       "      <td>19698926</td>\n",
       "      <td>3000.0</td>\n",
       "      <td>535.0</td>\n",
       "      <td>1.54</td>\n",
       "      <td>CT</td>\n",
       "      <td>5</td>\n",
       "      <td>Medical expenses</td>\n",
       "      <td>Rejected</td>\n",
       "    </tr>\n",
       "    <tr>\n",
       "      <th>1081516</th>\n",
       "      <td>19698936</td>\n",
       "      <td>6000.0</td>\n",
       "      <td>580.0</td>\n",
       "      <td>5.55</td>\n",
       "      <td>TX</td>\n",
       "      <td>0</td>\n",
       "      <td>Car financing</td>\n",
       "      <td>Rejected</td>\n",
       "    </tr>\n",
       "    <tr>\n",
       "      <th>1081517</th>\n",
       "      <td>19698996</td>\n",
       "      <td>3000.0</td>\n",
       "      <td>561.0</td>\n",
       "      <td>0.00</td>\n",
       "      <td>OR</td>\n",
       "      <td>0</td>\n",
       "      <td>Debt consolidation</td>\n",
       "      <td>Rejected</td>\n",
       "    </tr>\n",
       "    <tr>\n",
       "      <th>1081518</th>\n",
       "      <td>19699052</td>\n",
       "      <td>2500.0</td>\n",
       "      <td>573.0</td>\n",
       "      <td>8.55</td>\n",
       "      <td>NY</td>\n",
       "      <td>0</td>\n",
       "      <td>Other</td>\n",
       "      <td>Rejected</td>\n",
       "    </tr>\n",
       "    <tr>\n",
       "      <th>1081519</th>\n",
       "      <td>19699073</td>\n",
       "      <td>2500.0</td>\n",
       "      <td>567.0</td>\n",
       "      <td>0.00</td>\n",
       "      <td>AL</td>\n",
       "      <td>2</td>\n",
       "      <td>Car financing</td>\n",
       "      <td>Rejected</td>\n",
       "    </tr>\n",
       "  </tbody>\n",
       "</table>\n",
       "<p>1081520 rows × 8 columns</p>\n",
       "</div>"
      ],
      "text/plain": [
       "         Unnamed: 0  Amount_Requested  Risk_Score  debt_to_income_ratio State  \\\n",
       "0            421097            5000.0       669.0                 21.80    OK   \n",
       "1            421098           15000.0       704.0                 18.29    FL   \n",
       "2            421099           11200.0       669.0                 43.97    NH   \n",
       "3            421100           25000.0       669.0                 12.89    AL   \n",
       "4            421101            3000.0       764.0                  0.58    WA   \n",
       "...             ...               ...         ...                   ...   ...   \n",
       "1081515    19698926            3000.0       535.0                  1.54    CT   \n",
       "1081516    19698936            6000.0       580.0                  5.55    TX   \n",
       "1081517    19698996            3000.0       561.0                  0.00    OR   \n",
       "1081518    19699052            2500.0       573.0                  8.55    NY   \n",
       "1081519    19699073            2500.0       567.0                  0.00    AL   \n",
       "\n",
       "         Employment_Length             Purpose Loan_Status  \n",
       "0                        8               other    Accepted  \n",
       "1                        2  debt_consolidation    Accepted  \n",
       "2                        0             medical    Accepted  \n",
       "3                       10  debt_consolidation    Accepted  \n",
       "4                        9      major_purchase    Accepted  \n",
       "...                    ...                 ...         ...  \n",
       "1081515                  5    Medical expenses    Rejected  \n",
       "1081516                  0       Car financing    Rejected  \n",
       "1081517                  0  Debt consolidation    Rejected  \n",
       "1081518                  0               Other    Rejected  \n",
       "1081519                  2       Car financing    Rejected  \n",
       "\n",
       "[1081520 rows x 8 columns]"
      ]
     },
     "metadata": {},
     "execution_count": 20
    }
   ],
   "metadata": {}
  },
  {
   "cell_type": "code",
   "execution_count": 21,
   "source": [
    "loan_df=my_data.drop(['Unnamed: 0'], axis=1).fillna(-1)\r\n",
    "loan_df"
   ],
   "outputs": [
    {
     "output_type": "execute_result",
     "data": {
      "text/html": [
       "<div>\n",
       "<style scoped>\n",
       "    .dataframe tbody tr th:only-of-type {\n",
       "        vertical-align: middle;\n",
       "    }\n",
       "\n",
       "    .dataframe tbody tr th {\n",
       "        vertical-align: top;\n",
       "    }\n",
       "\n",
       "    .dataframe thead th {\n",
       "        text-align: right;\n",
       "    }\n",
       "</style>\n",
       "<table border=\"1\" class=\"dataframe\">\n",
       "  <thead>\n",
       "    <tr style=\"text-align: right;\">\n",
       "      <th></th>\n",
       "      <th>Amount_Requested</th>\n",
       "      <th>Risk_Score</th>\n",
       "      <th>debt_to_income_ratio</th>\n",
       "      <th>State</th>\n",
       "      <th>Employment_Length</th>\n",
       "      <th>Purpose</th>\n",
       "      <th>Loan_Status</th>\n",
       "    </tr>\n",
       "  </thead>\n",
       "  <tbody>\n",
       "    <tr>\n",
       "      <th>0</th>\n",
       "      <td>5000.0</td>\n",
       "      <td>669.0</td>\n",
       "      <td>21.80</td>\n",
       "      <td>OK</td>\n",
       "      <td>8</td>\n",
       "      <td>other</td>\n",
       "      <td>Accepted</td>\n",
       "    </tr>\n",
       "    <tr>\n",
       "      <th>1</th>\n",
       "      <td>15000.0</td>\n",
       "      <td>704.0</td>\n",
       "      <td>18.29</td>\n",
       "      <td>FL</td>\n",
       "      <td>2</td>\n",
       "      <td>debt_consolidation</td>\n",
       "      <td>Accepted</td>\n",
       "    </tr>\n",
       "    <tr>\n",
       "      <th>2</th>\n",
       "      <td>11200.0</td>\n",
       "      <td>669.0</td>\n",
       "      <td>43.97</td>\n",
       "      <td>NH</td>\n",
       "      <td>0</td>\n",
       "      <td>medical</td>\n",
       "      <td>Accepted</td>\n",
       "    </tr>\n",
       "    <tr>\n",
       "      <th>3</th>\n",
       "      <td>25000.0</td>\n",
       "      <td>669.0</td>\n",
       "      <td>12.89</td>\n",
       "      <td>AL</td>\n",
       "      <td>10</td>\n",
       "      <td>debt_consolidation</td>\n",
       "      <td>Accepted</td>\n",
       "    </tr>\n",
       "    <tr>\n",
       "      <th>4</th>\n",
       "      <td>3000.0</td>\n",
       "      <td>764.0</td>\n",
       "      <td>0.58</td>\n",
       "      <td>WA</td>\n",
       "      <td>9</td>\n",
       "      <td>major_purchase</td>\n",
       "      <td>Accepted</td>\n",
       "    </tr>\n",
       "    <tr>\n",
       "      <th>...</th>\n",
       "      <td>...</td>\n",
       "      <td>...</td>\n",
       "      <td>...</td>\n",
       "      <td>...</td>\n",
       "      <td>...</td>\n",
       "      <td>...</td>\n",
       "      <td>...</td>\n",
       "    </tr>\n",
       "    <tr>\n",
       "      <th>1081515</th>\n",
       "      <td>3000.0</td>\n",
       "      <td>535.0</td>\n",
       "      <td>1.54</td>\n",
       "      <td>CT</td>\n",
       "      <td>5</td>\n",
       "      <td>Medical expenses</td>\n",
       "      <td>Rejected</td>\n",
       "    </tr>\n",
       "    <tr>\n",
       "      <th>1081516</th>\n",
       "      <td>6000.0</td>\n",
       "      <td>580.0</td>\n",
       "      <td>5.55</td>\n",
       "      <td>TX</td>\n",
       "      <td>0</td>\n",
       "      <td>Car financing</td>\n",
       "      <td>Rejected</td>\n",
       "    </tr>\n",
       "    <tr>\n",
       "      <th>1081517</th>\n",
       "      <td>3000.0</td>\n",
       "      <td>561.0</td>\n",
       "      <td>0.00</td>\n",
       "      <td>OR</td>\n",
       "      <td>0</td>\n",
       "      <td>Debt consolidation</td>\n",
       "      <td>Rejected</td>\n",
       "    </tr>\n",
       "    <tr>\n",
       "      <th>1081518</th>\n",
       "      <td>2500.0</td>\n",
       "      <td>573.0</td>\n",
       "      <td>8.55</td>\n",
       "      <td>NY</td>\n",
       "      <td>0</td>\n",
       "      <td>Other</td>\n",
       "      <td>Rejected</td>\n",
       "    </tr>\n",
       "    <tr>\n",
       "      <th>1081519</th>\n",
       "      <td>2500.0</td>\n",
       "      <td>567.0</td>\n",
       "      <td>0.00</td>\n",
       "      <td>AL</td>\n",
       "      <td>2</td>\n",
       "      <td>Car financing</td>\n",
       "      <td>Rejected</td>\n",
       "    </tr>\n",
       "  </tbody>\n",
       "</table>\n",
       "<p>1081520 rows × 7 columns</p>\n",
       "</div>"
      ],
      "text/plain": [
       "         Amount_Requested  Risk_Score  debt_to_income_ratio State  \\\n",
       "0                  5000.0       669.0                 21.80    OK   \n",
       "1                 15000.0       704.0                 18.29    FL   \n",
       "2                 11200.0       669.0                 43.97    NH   \n",
       "3                 25000.0       669.0                 12.89    AL   \n",
       "4                  3000.0       764.0                  0.58    WA   \n",
       "...                   ...         ...                   ...   ...   \n",
       "1081515            3000.0       535.0                  1.54    CT   \n",
       "1081516            6000.0       580.0                  5.55    TX   \n",
       "1081517            3000.0       561.0                  0.00    OR   \n",
       "1081518            2500.0       573.0                  8.55    NY   \n",
       "1081519            2500.0       567.0                  0.00    AL   \n",
       "\n",
       "         Employment_Length             Purpose Loan_Status  \n",
       "0                        8               other    Accepted  \n",
       "1                        2  debt_consolidation    Accepted  \n",
       "2                        0             medical    Accepted  \n",
       "3                       10  debt_consolidation    Accepted  \n",
       "4                        9      major_purchase    Accepted  \n",
       "...                    ...                 ...         ...  \n",
       "1081515                  5    Medical expenses    Rejected  \n",
       "1081516                  0       Car financing    Rejected  \n",
       "1081517                  0  Debt consolidation    Rejected  \n",
       "1081518                  0               Other    Rejected  \n",
       "1081519                  2       Car financing    Rejected  \n",
       "\n",
       "[1081520 rows x 7 columns]"
      ]
     },
     "metadata": {},
     "execution_count": 21
    }
   ],
   "metadata": {}
  },
  {
   "cell_type": "code",
   "execution_count": 22,
   "source": [
    "# df[df.b > 10]\r\n",
    "dti_values_over100 = loan_df[loan_df.debt_to_income_ratio > 100]"
   ],
   "outputs": [],
   "metadata": {}
  },
  {
   "cell_type": "code",
   "execution_count": 23,
   "source": [
    "print(dti_values_over100.info())"
   ],
   "outputs": [
    {
     "output_type": "stream",
     "name": "stdout",
     "text": [
      "<class 'pandas.core.frame.DataFrame'>\n",
      "Int64Index: 22081 entries, 493 to 1081423\n",
      "Data columns (total 7 columns):\n",
      " #   Column                Non-Null Count  Dtype  \n",
      "---  ------                --------------  -----  \n",
      " 0   Amount_Requested      22081 non-null  float64\n",
      " 1   Risk_Score            22081 non-null  float64\n",
      " 2   debt_to_income_ratio  22081 non-null  float64\n",
      " 3   State                 22081 non-null  object \n",
      " 4   Employment_Length     22081 non-null  int64  \n",
      " 5   Purpose               22081 non-null  object \n",
      " 6   Loan_Status           22081 non-null  object \n",
      "dtypes: float64(3), int64(1), object(3)\n",
      "memory usage: 1.3+ MB\n",
      "None\n"
     ]
    }
   ],
   "metadata": {}
  },
  {
   "cell_type": "code",
   "execution_count": 24,
   "source": [
    "dti_values_over100.head()"
   ],
   "outputs": [
    {
     "output_type": "execute_result",
     "data": {
      "text/html": [
       "<div>\n",
       "<style scoped>\n",
       "    .dataframe tbody tr th:only-of-type {\n",
       "        vertical-align: middle;\n",
       "    }\n",
       "\n",
       "    .dataframe tbody tr th {\n",
       "        vertical-align: top;\n",
       "    }\n",
       "\n",
       "    .dataframe thead th {\n",
       "        text-align: right;\n",
       "    }\n",
       "</style>\n",
       "<table border=\"1\" class=\"dataframe\">\n",
       "  <thead>\n",
       "    <tr style=\"text-align: right;\">\n",
       "      <th></th>\n",
       "      <th>Amount_Requested</th>\n",
       "      <th>Risk_Score</th>\n",
       "      <th>debt_to_income_ratio</th>\n",
       "      <th>State</th>\n",
       "      <th>Employment_Length</th>\n",
       "      <th>Purpose</th>\n",
       "      <th>Loan_Status</th>\n",
       "    </tr>\n",
       "  </thead>\n",
       "  <tbody>\n",
       "    <tr>\n",
       "      <th>493</th>\n",
       "      <td>28000.0</td>\n",
       "      <td>704.0</td>\n",
       "      <td>112.20</td>\n",
       "      <td>NV</td>\n",
       "      <td>0</td>\n",
       "      <td>debt_consolidation</td>\n",
       "      <td>Accepted</td>\n",
       "    </tr>\n",
       "    <tr>\n",
       "      <th>643</th>\n",
       "      <td>40000.0</td>\n",
       "      <td>709.0</td>\n",
       "      <td>101.46</td>\n",
       "      <td>OH</td>\n",
       "      <td>4</td>\n",
       "      <td>debt_consolidation</td>\n",
       "      <td>Accepted</td>\n",
       "    </tr>\n",
       "    <tr>\n",
       "      <th>1229</th>\n",
       "      <td>10000.0</td>\n",
       "      <td>714.0</td>\n",
       "      <td>114.27</td>\n",
       "      <td>TX</td>\n",
       "      <td>9</td>\n",
       "      <td>debt_consolidation</td>\n",
       "      <td>Accepted</td>\n",
       "    </tr>\n",
       "    <tr>\n",
       "      <th>1683</th>\n",
       "      <td>9000.0</td>\n",
       "      <td>684.0</td>\n",
       "      <td>106.66</td>\n",
       "      <td>IL</td>\n",
       "      <td>4</td>\n",
       "      <td>credit_card</td>\n",
       "      <td>Accepted</td>\n",
       "    </tr>\n",
       "    <tr>\n",
       "      <th>1879</th>\n",
       "      <td>35000.0</td>\n",
       "      <td>714.0</td>\n",
       "      <td>102.47</td>\n",
       "      <td>UT</td>\n",
       "      <td>0</td>\n",
       "      <td>debt_consolidation</td>\n",
       "      <td>Accepted</td>\n",
       "    </tr>\n",
       "  </tbody>\n",
       "</table>\n",
       "</div>"
      ],
      "text/plain": [
       "      Amount_Requested  Risk_Score  debt_to_income_ratio State  \\\n",
       "493            28000.0       704.0                112.20    NV   \n",
       "643            40000.0       709.0                101.46    OH   \n",
       "1229           10000.0       714.0                114.27    TX   \n",
       "1683            9000.0       684.0                106.66    IL   \n",
       "1879           35000.0       714.0                102.47    UT   \n",
       "\n",
       "      Employment_Length             Purpose Loan_Status  \n",
       "493                   0  debt_consolidation    Accepted  \n",
       "643                   4  debt_consolidation    Accepted  \n",
       "1229                  9  debt_consolidation    Accepted  \n",
       "1683                  4         credit_card    Accepted  \n",
       "1879                  0  debt_consolidation    Accepted  "
      ]
     },
     "metadata": {},
     "execution_count": 24
    }
   ],
   "metadata": {}
  },
  {
   "cell_type": "code",
   "execution_count": 25,
   "source": [
    "dti_values_over100[\"Loan_Status\"].value_counts()"
   ],
   "outputs": [
    {
     "output_type": "execute_result",
     "data": {
      "text/plain": [
       "Rejected    21193\n",
       "Accepted      888\n",
       "Name: Loan_Status, dtype: int64"
      ]
     },
     "metadata": {},
     "execution_count": 25
    }
   ],
   "metadata": {}
  },
  {
   "cell_type": "code",
   "execution_count": 26,
   "source": [
    "clean_dti_data=loan_df[loan_df.debt_to_income_ratio < 100]"
   ],
   "outputs": [],
   "metadata": {}
  },
  {
   "cell_type": "code",
   "execution_count": 27,
   "source": [
    "clean_dti_data"
   ],
   "outputs": [
    {
     "output_type": "execute_result",
     "data": {
      "text/html": [
       "<div>\n",
       "<style scoped>\n",
       "    .dataframe tbody tr th:only-of-type {\n",
       "        vertical-align: middle;\n",
       "    }\n",
       "\n",
       "    .dataframe tbody tr th {\n",
       "        vertical-align: top;\n",
       "    }\n",
       "\n",
       "    .dataframe thead th {\n",
       "        text-align: right;\n",
       "    }\n",
       "</style>\n",
       "<table border=\"1\" class=\"dataframe\">\n",
       "  <thead>\n",
       "    <tr style=\"text-align: right;\">\n",
       "      <th></th>\n",
       "      <th>Amount_Requested</th>\n",
       "      <th>Risk_Score</th>\n",
       "      <th>debt_to_income_ratio</th>\n",
       "      <th>State</th>\n",
       "      <th>Employment_Length</th>\n",
       "      <th>Purpose</th>\n",
       "      <th>Loan_Status</th>\n",
       "    </tr>\n",
       "  </thead>\n",
       "  <tbody>\n",
       "    <tr>\n",
       "      <th>0</th>\n",
       "      <td>5000.0</td>\n",
       "      <td>669.0</td>\n",
       "      <td>21.80</td>\n",
       "      <td>OK</td>\n",
       "      <td>8</td>\n",
       "      <td>other</td>\n",
       "      <td>Accepted</td>\n",
       "    </tr>\n",
       "    <tr>\n",
       "      <th>1</th>\n",
       "      <td>15000.0</td>\n",
       "      <td>704.0</td>\n",
       "      <td>18.29</td>\n",
       "      <td>FL</td>\n",
       "      <td>2</td>\n",
       "      <td>debt_consolidation</td>\n",
       "      <td>Accepted</td>\n",
       "    </tr>\n",
       "    <tr>\n",
       "      <th>2</th>\n",
       "      <td>11200.0</td>\n",
       "      <td>669.0</td>\n",
       "      <td>43.97</td>\n",
       "      <td>NH</td>\n",
       "      <td>0</td>\n",
       "      <td>medical</td>\n",
       "      <td>Accepted</td>\n",
       "    </tr>\n",
       "    <tr>\n",
       "      <th>3</th>\n",
       "      <td>25000.0</td>\n",
       "      <td>669.0</td>\n",
       "      <td>12.89</td>\n",
       "      <td>AL</td>\n",
       "      <td>10</td>\n",
       "      <td>debt_consolidation</td>\n",
       "      <td>Accepted</td>\n",
       "    </tr>\n",
       "    <tr>\n",
       "      <th>4</th>\n",
       "      <td>3000.0</td>\n",
       "      <td>764.0</td>\n",
       "      <td>0.58</td>\n",
       "      <td>WA</td>\n",
       "      <td>9</td>\n",
       "      <td>major_purchase</td>\n",
       "      <td>Accepted</td>\n",
       "    </tr>\n",
       "    <tr>\n",
       "      <th>...</th>\n",
       "      <td>...</td>\n",
       "      <td>...</td>\n",
       "      <td>...</td>\n",
       "      <td>...</td>\n",
       "      <td>...</td>\n",
       "      <td>...</td>\n",
       "      <td>...</td>\n",
       "    </tr>\n",
       "    <tr>\n",
       "      <th>1081515</th>\n",
       "      <td>3000.0</td>\n",
       "      <td>535.0</td>\n",
       "      <td>1.54</td>\n",
       "      <td>CT</td>\n",
       "      <td>5</td>\n",
       "      <td>Medical expenses</td>\n",
       "      <td>Rejected</td>\n",
       "    </tr>\n",
       "    <tr>\n",
       "      <th>1081516</th>\n",
       "      <td>6000.0</td>\n",
       "      <td>580.0</td>\n",
       "      <td>5.55</td>\n",
       "      <td>TX</td>\n",
       "      <td>0</td>\n",
       "      <td>Car financing</td>\n",
       "      <td>Rejected</td>\n",
       "    </tr>\n",
       "    <tr>\n",
       "      <th>1081517</th>\n",
       "      <td>3000.0</td>\n",
       "      <td>561.0</td>\n",
       "      <td>0.00</td>\n",
       "      <td>OR</td>\n",
       "      <td>0</td>\n",
       "      <td>Debt consolidation</td>\n",
       "      <td>Rejected</td>\n",
       "    </tr>\n",
       "    <tr>\n",
       "      <th>1081518</th>\n",
       "      <td>2500.0</td>\n",
       "      <td>573.0</td>\n",
       "      <td>8.55</td>\n",
       "      <td>NY</td>\n",
       "      <td>0</td>\n",
       "      <td>Other</td>\n",
       "      <td>Rejected</td>\n",
       "    </tr>\n",
       "    <tr>\n",
       "      <th>1081519</th>\n",
       "      <td>2500.0</td>\n",
       "      <td>567.0</td>\n",
       "      <td>0.00</td>\n",
       "      <td>AL</td>\n",
       "      <td>2</td>\n",
       "      <td>Car financing</td>\n",
       "      <td>Rejected</td>\n",
       "    </tr>\n",
       "  </tbody>\n",
       "</table>\n",
       "<p>1034236 rows × 7 columns</p>\n",
       "</div>"
      ],
      "text/plain": [
       "         Amount_Requested  Risk_Score  debt_to_income_ratio State  \\\n",
       "0                  5000.0       669.0                 21.80    OK   \n",
       "1                 15000.0       704.0                 18.29    FL   \n",
       "2                 11200.0       669.0                 43.97    NH   \n",
       "3                 25000.0       669.0                 12.89    AL   \n",
       "4                  3000.0       764.0                  0.58    WA   \n",
       "...                   ...         ...                   ...   ...   \n",
       "1081515            3000.0       535.0                  1.54    CT   \n",
       "1081516            6000.0       580.0                  5.55    TX   \n",
       "1081517            3000.0       561.0                  0.00    OR   \n",
       "1081518            2500.0       573.0                  8.55    NY   \n",
       "1081519            2500.0       567.0                  0.00    AL   \n",
       "\n",
       "         Employment_Length             Purpose Loan_Status  \n",
       "0                        8               other    Accepted  \n",
       "1                        2  debt_consolidation    Accepted  \n",
       "2                        0             medical    Accepted  \n",
       "3                       10  debt_consolidation    Accepted  \n",
       "4                        9      major_purchase    Accepted  \n",
       "...                    ...                 ...         ...  \n",
       "1081515                  5    Medical expenses    Rejected  \n",
       "1081516                  0       Car financing    Rejected  \n",
       "1081517                  0  Debt consolidation    Rejected  \n",
       "1081518                  0               Other    Rejected  \n",
       "1081519                  2       Car financing    Rejected  \n",
       "\n",
       "[1034236 rows x 7 columns]"
      ]
     },
     "metadata": {},
     "execution_count": 27
    }
   ],
   "metadata": {}
  },
  {
   "cell_type": "code",
   "execution_count": 28,
   "source": [
    "sns.displot(clean_dti_data[\"debt_to_income_ratio\"])\r\n",
    "plt.show()"
   ],
   "outputs": [
    {
     "output_type": "display_data",
     "data": {
      "image/png": "[encoded data removed]",
      "text/plain": [
       "<Figure size 360x360 with 1 Axes>"
      ]
     },
     "metadata": {
      "needs_background": "light"
     }
    }
   ],
   "metadata": {}
  },
  {
   "cell_type": "code",
   "execution_count": 29,
   "source": [
    "#plotting the clean data\r\n",
    "print(clean_dti_data[\"Loan_Status\"].value_counts(normalize=True))"
   ],
   "outputs": [
    {
     "output_type": "stream",
     "name": "stdout",
     "text": [
      "Rejected    0.562685\n",
      "Accepted    0.437315\n",
      "Name: Loan_Status, dtype: float64\n"
     ]
    }
   ],
   "metadata": {}
  },
  {
   "cell_type": "code",
   "execution_count": 30,
   "source": [
    "#Dependent Variable - Loan Status\r\n",
    "sns.countplot(x='Loan_Status', data=clean_dti_data)"
   ],
   "outputs": [
    {
     "output_type": "execute_result",
     "data": {
      "text/plain": [
       "<AxesSubplot:xlabel='Loan_Status', ylabel='count'>"
      ]
     },
     "metadata": {},
     "execution_count": 30
    },
    {
     "output_type": "display_data",
     "data": {
      "image/png": "[encoded data removed]",
      "text/plain": [
       "<Figure size 432x288 with 1 Axes>"
      ]
     },
     "metadata": {
      "needs_background": "light"
     }
    }
   ],
   "metadata": {}
  },
  {
   "cell_type": "code",
   "execution_count": 31,
   "source": [
    "clean_dti_data['State'].value_counts().plot.bar(figsize=(20,5), title='State')\r\n",
    "plt.show()\r\n",
    "clean_dti_data['Purpose'].value_counts().plot.bar(figsize=(20,5), title='Purpose of Loan')\r\n",
    "plt.show()"
   ],
   "outputs": [
    {
     "output_type": "display_data",
     "data": {
      "image/png": "[encoded data removed]",
      "text/plain": [
       "<Figure size 1440x360 with 1 Axes>"
      ]
     },
     "metadata": {
      "needs_background": "light"
     }
    },
    {
     "output_type": "display_data",
     "data": {
      "image/png": "[encoded data removed]",
      "text/plain": [
       "<Figure size 1440x360 with 1 Axes>"
      ]
     },
     "metadata": {
      "needs_background": "light"
     }
    }
   ],
   "metadata": {}
  },
  {
   "cell_type": "code",
   "execution_count": 32,
   "source": [
    "sns.distplot(clean_dti_data[\"Amount_Requested\"])\r\n",
    "plt.show()"
   ],
   "outputs": [
    {
     "output_type": "stream",
     "name": "stderr",
     "text": [
      "C:\\Users\\glori\\anaconda3\\lib\\site-packages\\seaborn\\distributions.py:2551: FutureWarning: `distplot` is a deprecated function and will be removed in a future version. Please adapt your code to use either `displot` (a figure-level function with similar flexibility) or `histplot` (an axes-level function for histograms).\n",
      "  warnings.warn(msg, FutureWarning)\n"
     ]
    },
    {
     "output_type": "display_data",
     "data": {
      "image/png": "[encoded data removed]",
      "text/plain": [
       "<Figure size 432x288 with 1 Axes>"
      ]
     },
     "metadata": {
      "needs_background": "light"
     }
    }
   ],
   "metadata": {}
  },
  {
   "cell_type": "code",
   "execution_count": 33,
   "source": [
    "sns.displot(clean_dti_data[\"Risk_Score\"])\r\n",
    "plt.show()"
   ],
   "outputs": [
    {
     "output_type": "display_data",
     "data": {
      "image/png": "[encoded data removed]",
      "text/plain": [
       "<Figure size 360x360 with 1 Axes>"
      ]
     },
     "metadata": {
      "needs_background": "light"
     }
    }
   ],
   "metadata": {}
  },
  {
   "cell_type": "code",
   "execution_count": 34,
   "source": [
    "#Loan purpose recategorized\r\n",
    "clean_dti_data.loc[(clean_dti_data.Purpose == \"debt_consolidation\"), \"Purpose\"] = \"Debt consolidation\"\r\n",
    "clean_dti_data.loc[(clean_dti_data.Purpose == \"other\"), \"Purpose\"] = \"Other\"\r\n",
    "clean_dti_data.loc[(clean_dti_data.Purpose == \"car\"), \"Purpose\"] = \"Car Financing\"\r\n",
    "clean_dti_data.loc[(clean_dti_data.Purpose == \"home_improvement\"), \"Purpose\"] = \"Home Improvement\"\r\n",
    "clean_dti_data.loc[(clean_dti_data.Purpose == \"moving\"), \"Purpose\"] = \"Relocation Expense\"\r\n",
    "clean_dti_data.loc[(clean_dti_data.Purpose == \"major_purchase\"), \"Purpose\"] = \"Major Purchase\"\r\n",
    "clean_dti_data.loc[(clean_dti_data.Purpose == \"medical\"), \"Purpose\"] = \"Medical Expense\"\r\n",
    "clean_dti_data.loc[(clean_dti_data.Purpose == \"house\"), \"Purpose\"] = \"Home Buying\"\r\n",
    "clean_dti_data.loc[(clean_dti_data.Purpose == \"vacation\"), \"Purpose\"] = \"Vacation\"\r\n",
    "clean_dti_data.loc[(clean_dti_data.Purpose == \"small_business\"), \"Purpose\"] = \"Business\"\r\n",
    "clean_dti_data.loc[(clean_dti_data.Purpose == \"renewable_energy\"), \"Purpose\"] = \"Energy Loan\""
   ],
   "outputs": [
    {
     "output_type": "stream",
     "name": "stderr",
     "text": [
      "C:\\Users\\glori\\anaconda3\\lib\\site-packages\\pandas\\core\\indexing.py:1765: SettingWithCopyWarning: \n",
      "A value is trying to be set on a copy of a slice from a DataFrame.\n",
      "Try using .loc[row_indexer,col_indexer] = value instead\n",
      "\n",
      "See the caveats in the documentation: https://pandas.pydata.org/pandas-docs/stable/user_guide/indexing.html#returning-a-view-versus-a-copy\n",
      "  isetter(loc, value)\n"
     ]
    }
   ],
   "metadata": {}
  },
  {
   "cell_type": "code",
   "execution_count": 35,
   "source": [
    "#Cleaned Purpose Column\r\n",
    "clean_dti_data[\"Purpose\"].value_counts()"
   ],
   "outputs": [
    {
     "output_type": "execute_result",
     "data": {
      "text/plain": [
       "Debt consolidation         463923\n",
       "Other                      179281\n",
       "credit_card                118031\n",
       "Credit card refinancing     77889\n",
       "Car financing               31333\n",
       "Home Improvement            29363\n",
       "Home buying                 19056\n",
       "Medical expenses            18315\n",
       "Moving and relocation       17612\n",
       "Major purchase              15669\n",
       "Home improvement            13046\n",
       "Business                    13010\n",
       "Major Purchase              10754\n",
       "Vacation                     7780\n",
       "Medical Expense              5783\n",
       "Home Buying                  4921\n",
       "Car Financing                4546\n",
       "Relocation Expense           2825\n",
       "Green loan                    808\n",
       "Energy Loan                   252\n",
       "Learning and training          34\n",
       "wedding                         5\n",
       "Name: Purpose, dtype: int64"
      ]
     },
     "metadata": {},
     "execution_count": 35
    }
   ],
   "metadata": {}
  },
  {
   "cell_type": "code",
   "execution_count": 36,
   "source": [
    "# plot the heatmap\r\n",
    "corr = clean_dti_data.corr()\r\n",
    "sns.heatmap(corr, xticklabels=corr.columns, yticklabels=corr.columns, annot=True, cmap=sns.diverging_palette(240, 10, as_cmap=True))"
   ],
   "outputs": [
    {
     "output_type": "execute_result",
     "data": {
      "text/plain": [
       "<AxesSubplot:>"
      ]
     },
     "metadata": {},
     "execution_count": 36
    },
    {
     "output_type": "display_data",
     "data": {
      "image/png": "[encoded data removed]",
      "text/plain": [
       "<Figure size 432x288 with 2 Axes>"
      ]
     },
     "metadata": {
      "needs_background": "light"
     }
    }
   ],
   "metadata": {}
  },
  {
   "cell_type": "code",
   "execution_count": 37,
   "source": [
    "clean_dti_data.info()"
   ],
   "outputs": [
    {
     "output_type": "stream",
     "name": "stdout",
     "text": [
      "<class 'pandas.core.frame.DataFrame'>\n",
      "Int64Index: 1034236 entries, 0 to 1081519\n",
      "Data columns (total 7 columns):\n",
      " #   Column                Non-Null Count    Dtype  \n",
      "---  ------                --------------    -----  \n",
      " 0   Amount_Requested      1034236 non-null  float64\n",
      " 1   Risk_Score            1034236 non-null  float64\n",
      " 2   debt_to_income_ratio  1034236 non-null  float64\n",
      " 3   State                 1034236 non-null  object \n",
      " 4   Employment_Length     1034236 non-null  int64  \n",
      " 5   Purpose               1034236 non-null  object \n",
      " 6   Loan_Status           1034236 non-null  object \n",
      "dtypes: float64(3), int64(1), object(3)\n",
      "memory usage: 63.1+ MB\n"
     ]
    }
   ],
   "metadata": {}
  },
  {
   "cell_type": "code",
   "execution_count": 38,
   "source": [
    "Loan_Purpose = pd.crosstab(clean_dti_data[\"Purpose\"], clean_dti_data[\"Loan_Status\"])\r\n",
    "Employment_Length = pd.crosstab(clean_dti_data[\"Employment_Length\"], clean_dti_data[\"Loan_Status\"])\r\n",
    "State = pd.crosstab(clean_dti_data[\"State\"], clean_dti_data[\"Loan_Status\"])\r\n",
    "\r\n",
    "Loan_Purpose.div(Loan_Purpose.sum(1).astype(float), axis = 0).plot(kind='bar', stacked=True, figsize=(15,4))\r\n",
    "plt.show()\r\n",
    "Employment_Length.div(Employment_Length.sum(1).astype(float), axis = 0).plot(kind='bar', stacked=True, figsize=(15,4))\r\n",
    "plt.show()\r\n",
    "State.div(State.sum(1).astype(float), axis = 0).plot(kind='bar', stacked=True, figsize=(15,4))\r\n",
    "plt.show()"
   ],
   "outputs": [
    {
     "output_type": "display_data",
     "data": {
      "image/png": "[encoded data removed]",
      "text/plain": [
       "<Figure size 1080x288 with 1 Axes>"
      ]
     },
     "metadata": {
      "needs_background": "light"
     }
    },
    {
     "output_type": "display_data",
     "data": {
      "image/png": "[encoded data removed]",
      "text/plain": [
       "<Figure size 1080x288 with 1 Axes>"
      ]
     },
     "metadata": {
      "needs_background": "light"
     }
    },
    {
     "output_type": "display_data",
     "data": {
      "image/png": "[encoded data removed]",
      "text/plain": [
       "<Figure size 1080x288 with 1 Axes>"
      ]
     },
     "metadata": {
      "needs_background": "light"
     }
    }
   ],
   "metadata": {}
  },
  {
   "cell_type": "code",
   "execution_count": 39,
   "source": [
    "clean_dti_data.groupby(\"Loan_Status\")[\"Amount_Requested\"].mean().plot.bar()\r\n",
    "\r\n",
    "bins=[0,10000,20000,30000]\r\n",
    "group=['Low','Average','High']\r\n",
    "\r\n",
    "clean_dti_data['Amount_Requested_bins']=pd.cut(clean_dti_data['Amount_Requested'],bins,labels=group)\r\n",
    "\r\n",
    "Amount_Requested_bins=pd.crosstab(clean_dti_data['Amount_Requested_bins'],clean_dti_data['Loan_Status'])\r\n",
    "Amount_Requested_bins.div(Amount_Requested_bins.sum(1).astype(float), axis=0).plot(kind='bar', stacked=True, figsize=(10,4))\r\n",
    "plt.xlabel('Loan Amount')\r\n",
    "plt.ylabel('Percentage')"
   ],
   "outputs": [
    {
     "output_type": "stream",
     "name": "stderr",
     "text": [
      "<ipython-input-39-30b0929a1dde>:6: SettingWithCopyWarning: \n",
      "A value is trying to be set on a copy of a slice from a DataFrame.\n",
      "Try using .loc[row_indexer,col_indexer] = value instead\n",
      "\n",
      "See the caveats in the documentation: https://pandas.pydata.org/pandas-docs/stable/user_guide/indexing.html#returning-a-view-versus-a-copy\n",
      "  clean_dti_data['Amount_Requested_bins']=pd.cut(clean_dti_data['Amount_Requested'],bins,labels=group)\n"
     ]
    },
    {
     "output_type": "execute_result",
     "data": {
      "text/plain": [
       "Text(0, 0.5, 'Percentage')"
      ]
     },
     "metadata": {},
     "execution_count": 39
    },
    {
     "output_type": "display_data",
     "data": {
      "image/png": "[encoded data removed]",
      "text/plain": [
       "<Figure size 432x288 with 1 Axes>"
      ]
     },
     "metadata": {
      "needs_background": "light"
     }
    },
    {
     "output_type": "display_data",
     "data": {
      "image/png": "[encoded data removed]",
      "text/plain": [
       "<Figure size 720x288 with 1 Axes>"
      ]
     },
     "metadata": {
      "needs_background": "light"
     }
    }
   ],
   "metadata": {}
  },
  {
   "cell_type": "code",
   "execution_count": 40,
   "source": [
    "#plot risk scores\r\n",
    "bins=[0,629,689,719,850]\r\n",
    "group=['Bad','Fair','Good','Excellent']\r\n",
    "\r\n",
    "clean_dti_data['Risk_Score_bins']=pd.cut(clean_dti_data['Risk_Score'],bins,labels=group)\r\n",
    "\r\n",
    "Risk_Score_bins=pd.crosstab(clean_dti_data['Risk_Score_bins'],clean_dti_data['Loan_Status'])\r\n",
    "Risk_Score_bins.div(Risk_Score_bins.sum(1).astype(float), axis=0).plot(kind='bar', stacked=True, figsize=(15,4))\r\n",
    "plt.xlabel('Risk Score')\r\n",
    "plt.ylabel('Percentage')"
   ],
   "outputs": [
    {
     "output_type": "stream",
     "name": "stderr",
     "text": [
      "<ipython-input-40-efd6e5cc71f5>:5: SettingWithCopyWarning: \n",
      "A value is trying to be set on a copy of a slice from a DataFrame.\n",
      "Try using .loc[row_indexer,col_indexer] = value instead\n",
      "\n",
      "See the caveats in the documentation: https://pandas.pydata.org/pandas-docs/stable/user_guide/indexing.html#returning-a-view-versus-a-copy\n",
      "  clean_dti_data['Risk_Score_bins']=pd.cut(clean_dti_data['Risk_Score'],bins,labels=group)\n"
     ]
    },
    {
     "output_type": "execute_result",
     "data": {
      "text/plain": [
       "Text(0, 0.5, 'Percentage')"
      ]
     },
     "metadata": {},
     "execution_count": 40
    },
    {
     "output_type": "display_data",
     "data": {
      "image/png": "[encoded data removed]",
      "text/plain": [
       "<Figure size 1080x288 with 1 Axes>"
      ]
     },
     "metadata": {
      "needs_background": "light"
     }
    }
   ],
   "metadata": {}
  },
  {
   "cell_type": "code",
   "execution_count": 41,
   "source": [
    "#Turn the Loan Status into a binary variable to see correlation between that and numeric variable\r\n",
    "\r\n",
    "clean_dti_data = clean_dti_data.drop(['Risk_Score_bins', 'Amount_Requested_bins'], axis=1)"
   ],
   "outputs": [],
   "metadata": {}
  },
  {
   "cell_type": "code",
   "execution_count": 42,
   "source": [
    "#Use this table to work with\r\n",
    "model_data = clean_dti_data.copy()\r\n",
    "model_data"
   ],
   "outputs": [
    {
     "output_type": "execute_result",
     "data": {
      "text/html": [
       "<div>\n",
       "<style scoped>\n",
       "    .dataframe tbody tr th:only-of-type {\n",
       "        vertical-align: middle;\n",
       "    }\n",
       "\n",
       "    .dataframe tbody tr th {\n",
       "        vertical-align: top;\n",
       "    }\n",
       "\n",
       "    .dataframe thead th {\n",
       "        text-align: right;\n",
       "    }\n",
       "</style>\n",
       "<table border=\"1\" class=\"dataframe\">\n",
       "  <thead>\n",
       "    <tr style=\"text-align: right;\">\n",
       "      <th></th>\n",
       "      <th>Amount_Requested</th>\n",
       "      <th>Risk_Score</th>\n",
       "      <th>debt_to_income_ratio</th>\n",
       "      <th>State</th>\n",
       "      <th>Employment_Length</th>\n",
       "      <th>Purpose</th>\n",
       "      <th>Loan_Status</th>\n",
       "    </tr>\n",
       "  </thead>\n",
       "  <tbody>\n",
       "    <tr>\n",
       "      <th>0</th>\n",
       "      <td>5000.0</td>\n",
       "      <td>669.0</td>\n",
       "      <td>21.80</td>\n",
       "      <td>OK</td>\n",
       "      <td>8</td>\n",
       "      <td>Other</td>\n",
       "      <td>Accepted</td>\n",
       "    </tr>\n",
       "    <tr>\n",
       "      <th>1</th>\n",
       "      <td>15000.0</td>\n",
       "      <td>704.0</td>\n",
       "      <td>18.29</td>\n",
       "      <td>FL</td>\n",
       "      <td>2</td>\n",
       "      <td>Debt consolidation</td>\n",
       "      <td>Accepted</td>\n",
       "    </tr>\n",
       "    <tr>\n",
       "      <th>2</th>\n",
       "      <td>11200.0</td>\n",
       "      <td>669.0</td>\n",
       "      <td>43.97</td>\n",
       "      <td>NH</td>\n",
       "      <td>0</td>\n",
       "      <td>Medical Expense</td>\n",
       "      <td>Accepted</td>\n",
       "    </tr>\n",
       "    <tr>\n",
       "      <th>3</th>\n",
       "      <td>25000.0</td>\n",
       "      <td>669.0</td>\n",
       "      <td>12.89</td>\n",
       "      <td>AL</td>\n",
       "      <td>10</td>\n",
       "      <td>Debt consolidation</td>\n",
       "      <td>Accepted</td>\n",
       "    </tr>\n",
       "    <tr>\n",
       "      <th>4</th>\n",
       "      <td>3000.0</td>\n",
       "      <td>764.0</td>\n",
       "      <td>0.58</td>\n",
       "      <td>WA</td>\n",
       "      <td>9</td>\n",
       "      <td>Major Purchase</td>\n",
       "      <td>Accepted</td>\n",
       "    </tr>\n",
       "    <tr>\n",
       "      <th>...</th>\n",
       "      <td>...</td>\n",
       "      <td>...</td>\n",
       "      <td>...</td>\n",
       "      <td>...</td>\n",
       "      <td>...</td>\n",
       "      <td>...</td>\n",
       "      <td>...</td>\n",
       "    </tr>\n",
       "    <tr>\n",
       "      <th>1081515</th>\n",
       "      <td>3000.0</td>\n",
       "      <td>535.0</td>\n",
       "      <td>1.54</td>\n",
       "      <td>CT</td>\n",
       "      <td>5</td>\n",
       "      <td>Medical expenses</td>\n",
       "      <td>Rejected</td>\n",
       "    </tr>\n",
       "    <tr>\n",
       "      <th>1081516</th>\n",
       "      <td>6000.0</td>\n",
       "      <td>580.0</td>\n",
       "      <td>5.55</td>\n",
       "      <td>TX</td>\n",
       "      <td>0</td>\n",
       "      <td>Car financing</td>\n",
       "      <td>Rejected</td>\n",
       "    </tr>\n",
       "    <tr>\n",
       "      <th>1081517</th>\n",
       "      <td>3000.0</td>\n",
       "      <td>561.0</td>\n",
       "      <td>0.00</td>\n",
       "      <td>OR</td>\n",
       "      <td>0</td>\n",
       "      <td>Debt consolidation</td>\n",
       "      <td>Rejected</td>\n",
       "    </tr>\n",
       "    <tr>\n",
       "      <th>1081518</th>\n",
       "      <td>2500.0</td>\n",
       "      <td>573.0</td>\n",
       "      <td>8.55</td>\n",
       "      <td>NY</td>\n",
       "      <td>0</td>\n",
       "      <td>Other</td>\n",
       "      <td>Rejected</td>\n",
       "    </tr>\n",
       "    <tr>\n",
       "      <th>1081519</th>\n",
       "      <td>2500.0</td>\n",
       "      <td>567.0</td>\n",
       "      <td>0.00</td>\n",
       "      <td>AL</td>\n",
       "      <td>2</td>\n",
       "      <td>Car financing</td>\n",
       "      <td>Rejected</td>\n",
       "    </tr>\n",
       "  </tbody>\n",
       "</table>\n",
       "<p>1034236 rows × 7 columns</p>\n",
       "</div>"
      ],
      "text/plain": [
       "         Amount_Requested  Risk_Score  debt_to_income_ratio State  \\\n",
       "0                  5000.0       669.0                 21.80    OK   \n",
       "1                 15000.0       704.0                 18.29    FL   \n",
       "2                 11200.0       669.0                 43.97    NH   \n",
       "3                 25000.0       669.0                 12.89    AL   \n",
       "4                  3000.0       764.0                  0.58    WA   \n",
       "...                   ...         ...                   ...   ...   \n",
       "1081515            3000.0       535.0                  1.54    CT   \n",
       "1081516            6000.0       580.0                  5.55    TX   \n",
       "1081517            3000.0       561.0                  0.00    OR   \n",
       "1081518            2500.0       573.0                  8.55    NY   \n",
       "1081519            2500.0       567.0                  0.00    AL   \n",
       "\n",
       "         Employment_Length             Purpose Loan_Status  \n",
       "0                        8               Other    Accepted  \n",
       "1                        2  Debt consolidation    Accepted  \n",
       "2                        0     Medical Expense    Accepted  \n",
       "3                       10  Debt consolidation    Accepted  \n",
       "4                        9      Major Purchase    Accepted  \n",
       "...                    ...                 ...         ...  \n",
       "1081515                  5    Medical expenses    Rejected  \n",
       "1081516                  0       Car financing    Rejected  \n",
       "1081517                  0  Debt consolidation    Rejected  \n",
       "1081518                  0               Other    Rejected  \n",
       "1081519                  2       Car financing    Rejected  \n",
       "\n",
       "[1034236 rows x 7 columns]"
      ]
     },
     "metadata": {},
     "execution_count": 42
    }
   ],
   "metadata": {}
  },
  {
   "cell_type": "code",
   "execution_count": 43,
   "source": [
    "columns_to_be_encoded=['Loan_Status', 'State', 'Purpose']\r\n",
    "for column in columns_to_be_encoded:\r\n",
    "    le=preprocessing.LabelEncoder()\r\n",
    "    le.fit(list(model_data[column].values))\r\n",
    "    model_data[column]=le.transform(list(model_data[column].values))\r\n",
    "    with open(f'{column}.pickle', 'wb') as file:\r\n",
    "        pickle.dump(le, file, pickle.HIGHEST_PROTOCOL)\r\n",
    "model_data"
   ],
   "outputs": [
    {
     "output_type": "execute_result",
     "data": {
      "text/html": [
       "<div>\n",
       "<style scoped>\n",
       "    .dataframe tbody tr th:only-of-type {\n",
       "        vertical-align: middle;\n",
       "    }\n",
       "\n",
       "    .dataframe tbody tr th {\n",
       "        vertical-align: top;\n",
       "    }\n",
       "\n",
       "    .dataframe thead th {\n",
       "        text-align: right;\n",
       "    }\n",
       "</style>\n",
       "<table border=\"1\" class=\"dataframe\">\n",
       "  <thead>\n",
       "    <tr style=\"text-align: right;\">\n",
       "      <th></th>\n",
       "      <th>Amount_Requested</th>\n",
       "      <th>Risk_Score</th>\n",
       "      <th>debt_to_income_ratio</th>\n",
       "      <th>State</th>\n",
       "      <th>Employment_Length</th>\n",
       "      <th>Purpose</th>\n",
       "      <th>Loan_Status</th>\n",
       "    </tr>\n",
       "  </thead>\n",
       "  <tbody>\n",
       "    <tr>\n",
       "      <th>0</th>\n",
       "      <td>5000.0</td>\n",
       "      <td>669.0</td>\n",
       "      <td>21.80</td>\n",
       "      <td>36</td>\n",
       "      <td>8</td>\n",
       "      <td>17</td>\n",
       "      <td>0</td>\n",
       "    </tr>\n",
       "    <tr>\n",
       "      <th>1</th>\n",
       "      <td>15000.0</td>\n",
       "      <td>704.0</td>\n",
       "      <td>18.29</td>\n",
       "      <td>9</td>\n",
       "      <td>2</td>\n",
       "      <td>4</td>\n",
       "      <td>0</td>\n",
       "    </tr>\n",
       "    <tr>\n",
       "      <th>2</th>\n",
       "      <td>11200.0</td>\n",
       "      <td>669.0</td>\n",
       "      <td>43.97</td>\n",
       "      <td>30</td>\n",
       "      <td>0</td>\n",
       "      <td>14</td>\n",
       "      <td>0</td>\n",
       "    </tr>\n",
       "    <tr>\n",
       "      <th>3</th>\n",
       "      <td>25000.0</td>\n",
       "      <td>669.0</td>\n",
       "      <td>12.89</td>\n",
       "      <td>1</td>\n",
       "      <td>10</td>\n",
       "      <td>4</td>\n",
       "      <td>0</td>\n",
       "    </tr>\n",
       "    <tr>\n",
       "      <th>4</th>\n",
       "      <td>3000.0</td>\n",
       "      <td>764.0</td>\n",
       "      <td>0.58</td>\n",
       "      <td>47</td>\n",
       "      <td>9</td>\n",
       "      <td>12</td>\n",
       "      <td>0</td>\n",
       "    </tr>\n",
       "    <tr>\n",
       "      <th>...</th>\n",
       "      <td>...</td>\n",
       "      <td>...</td>\n",
       "      <td>...</td>\n",
       "      <td>...</td>\n",
       "      <td>...</td>\n",
       "      <td>...</td>\n",
       "      <td>...</td>\n",
       "    </tr>\n",
       "    <tr>\n",
       "      <th>1081515</th>\n",
       "      <td>3000.0</td>\n",
       "      <td>535.0</td>\n",
       "      <td>1.54</td>\n",
       "      <td>6</td>\n",
       "      <td>5</td>\n",
       "      <td>15</td>\n",
       "      <td>1</td>\n",
       "    </tr>\n",
       "    <tr>\n",
       "      <th>1081516</th>\n",
       "      <td>6000.0</td>\n",
       "      <td>580.0</td>\n",
       "      <td>5.55</td>\n",
       "      <td>43</td>\n",
       "      <td>0</td>\n",
       "      <td>2</td>\n",
       "      <td>1</td>\n",
       "    </tr>\n",
       "    <tr>\n",
       "      <th>1081517</th>\n",
       "      <td>3000.0</td>\n",
       "      <td>561.0</td>\n",
       "      <td>0.00</td>\n",
       "      <td>37</td>\n",
       "      <td>0</td>\n",
       "      <td>4</td>\n",
       "      <td>1</td>\n",
       "    </tr>\n",
       "    <tr>\n",
       "      <th>1081518</th>\n",
       "      <td>2500.0</td>\n",
       "      <td>573.0</td>\n",
       "      <td>8.55</td>\n",
       "      <td>34</td>\n",
       "      <td>0</td>\n",
       "      <td>17</td>\n",
       "      <td>1</td>\n",
       "    </tr>\n",
       "    <tr>\n",
       "      <th>1081519</th>\n",
       "      <td>2500.0</td>\n",
       "      <td>567.0</td>\n",
       "      <td>0.00</td>\n",
       "      <td>1</td>\n",
       "      <td>2</td>\n",
       "      <td>2</td>\n",
       "      <td>1</td>\n",
       "    </tr>\n",
       "  </tbody>\n",
       "</table>\n",
       "<p>1034236 rows × 7 columns</p>\n",
       "</div>"
      ],
      "text/plain": [
       "         Amount_Requested  Risk_Score  debt_to_income_ratio  State  \\\n",
       "0                  5000.0       669.0                 21.80     36   \n",
       "1                 15000.0       704.0                 18.29      9   \n",
       "2                 11200.0       669.0                 43.97     30   \n",
       "3                 25000.0       669.0                 12.89      1   \n",
       "4                  3000.0       764.0                  0.58     47   \n",
       "...                   ...         ...                   ...    ...   \n",
       "1081515            3000.0       535.0                  1.54      6   \n",
       "1081516            6000.0       580.0                  5.55     43   \n",
       "1081517            3000.0       561.0                  0.00     37   \n",
       "1081518            2500.0       573.0                  8.55     34   \n",
       "1081519            2500.0       567.0                  0.00      1   \n",
       "\n",
       "         Employment_Length  Purpose  Loan_Status  \n",
       "0                        8       17            0  \n",
       "1                        2        4            0  \n",
       "2                        0       14            0  \n",
       "3                       10        4            0  \n",
       "4                        9       12            0  \n",
       "...                    ...      ...          ...  \n",
       "1081515                  5       15            1  \n",
       "1081516                  0        2            1  \n",
       "1081517                  0        4            1  \n",
       "1081518                  0       17            1  \n",
       "1081519                  2        2            1  \n",
       "\n",
       "[1034236 rows x 7 columns]"
      ]
     },
     "metadata": {},
     "execution_count": 43
    }
   ],
   "metadata": {}
  },
  {
   "cell_type": "code",
   "execution_count": 44,
   "source": [
    "#Independent Variable\r\n",
    "X=model_data.drop(['Loan_Status'], axis=1)\r\n",
    "y=model_data['Loan_Status']\r\n",
    "\r\n"
   ],
   "outputs": [],
   "metadata": {}
  },
  {
   "cell_type": "code",
   "execution_count": 45,
   "source": [
    "new_model_corr = model_data.corr()\r\n",
    "plt.figure(figsize=(12, 6))\r\n",
    "sns.heatmap(new_model_corr, vmin=-1, vmax=1, annot=True, cmap='BrBG')\r\n"
   ],
   "outputs": [
    {
     "output_type": "execute_result",
     "data": {
      "text/plain": [
       "<AxesSubplot:>"
      ]
     },
     "metadata": {},
     "execution_count": 45
    },
    {
     "output_type": "display_data",
     "data": {
      "image/png": "[encoded data removed]",
      "text/plain": [
       "<Figure size 864x432 with 2 Axes>"
      ]
     },
     "metadata": {
      "needs_background": "light"
     }
    }
   ],
   "metadata": {}
  },
  {
   "cell_type": "code",
   "execution_count": 46,
   "source": [
    "X"
   ],
   "outputs": [
    {
     "output_type": "execute_result",
     "data": {
      "text/html": [
       "<div>\n",
       "<style scoped>\n",
       "    .dataframe tbody tr th:only-of-type {\n",
       "        vertical-align: middle;\n",
       "    }\n",
       "\n",
       "    .dataframe tbody tr th {\n",
       "        vertical-align: top;\n",
       "    }\n",
       "\n",
       "    .dataframe thead th {\n",
       "        text-align: right;\n",
       "    }\n",
       "</style>\n",
       "<table border=\"1\" class=\"dataframe\">\n",
       "  <thead>\n",
       "    <tr style=\"text-align: right;\">\n",
       "      <th></th>\n",
       "      <th>Amount_Requested</th>\n",
       "      <th>Risk_Score</th>\n",
       "      <th>debt_to_income_ratio</th>\n",
       "      <th>State</th>\n",
       "      <th>Employment_Length</th>\n",
       "      <th>Purpose</th>\n",
       "    </tr>\n",
       "  </thead>\n",
       "  <tbody>\n",
       "    <tr>\n",
       "      <th>0</th>\n",
       "      <td>5000.0</td>\n",
       "      <td>669.0</td>\n",
       "      <td>21.80</td>\n",
       "      <td>36</td>\n",
       "      <td>8</td>\n",
       "      <td>17</td>\n",
       "    </tr>\n",
       "    <tr>\n",
       "      <th>1</th>\n",
       "      <td>15000.0</td>\n",
       "      <td>704.0</td>\n",
       "      <td>18.29</td>\n",
       "      <td>9</td>\n",
       "      <td>2</td>\n",
       "      <td>4</td>\n",
       "    </tr>\n",
       "    <tr>\n",
       "      <th>2</th>\n",
       "      <td>11200.0</td>\n",
       "      <td>669.0</td>\n",
       "      <td>43.97</td>\n",
       "      <td>30</td>\n",
       "      <td>0</td>\n",
       "      <td>14</td>\n",
       "    </tr>\n",
       "    <tr>\n",
       "      <th>3</th>\n",
       "      <td>25000.0</td>\n",
       "      <td>669.0</td>\n",
       "      <td>12.89</td>\n",
       "      <td>1</td>\n",
       "      <td>10</td>\n",
       "      <td>4</td>\n",
       "    </tr>\n",
       "    <tr>\n",
       "      <th>4</th>\n",
       "      <td>3000.0</td>\n",
       "      <td>764.0</td>\n",
       "      <td>0.58</td>\n",
       "      <td>47</td>\n",
       "      <td>9</td>\n",
       "      <td>12</td>\n",
       "    </tr>\n",
       "    <tr>\n",
       "      <th>...</th>\n",
       "      <td>...</td>\n",
       "      <td>...</td>\n",
       "      <td>...</td>\n",
       "      <td>...</td>\n",
       "      <td>...</td>\n",
       "      <td>...</td>\n",
       "    </tr>\n",
       "    <tr>\n",
       "      <th>1081515</th>\n",
       "      <td>3000.0</td>\n",
       "      <td>535.0</td>\n",
       "      <td>1.54</td>\n",
       "      <td>6</td>\n",
       "      <td>5</td>\n",
       "      <td>15</td>\n",
       "    </tr>\n",
       "    <tr>\n",
       "      <th>1081516</th>\n",
       "      <td>6000.0</td>\n",
       "      <td>580.0</td>\n",
       "      <td>5.55</td>\n",
       "      <td>43</td>\n",
       "      <td>0</td>\n",
       "      <td>2</td>\n",
       "    </tr>\n",
       "    <tr>\n",
       "      <th>1081517</th>\n",
       "      <td>3000.0</td>\n",
       "      <td>561.0</td>\n",
       "      <td>0.00</td>\n",
       "      <td>37</td>\n",
       "      <td>0</td>\n",
       "      <td>4</td>\n",
       "    </tr>\n",
       "    <tr>\n",
       "      <th>1081518</th>\n",
       "      <td>2500.0</td>\n",
       "      <td>573.0</td>\n",
       "      <td>8.55</td>\n",
       "      <td>34</td>\n",
       "      <td>0</td>\n",
       "      <td>17</td>\n",
       "    </tr>\n",
       "    <tr>\n",
       "      <th>1081519</th>\n",
       "      <td>2500.0</td>\n",
       "      <td>567.0</td>\n",
       "      <td>0.00</td>\n",
       "      <td>1</td>\n",
       "      <td>2</td>\n",
       "      <td>2</td>\n",
       "    </tr>\n",
       "  </tbody>\n",
       "</table>\n",
       "<p>1034236 rows × 6 columns</p>\n",
       "</div>"
      ],
      "text/plain": [
       "         Amount_Requested  Risk_Score  debt_to_income_ratio  State  \\\n",
       "0                  5000.0       669.0                 21.80     36   \n",
       "1                 15000.0       704.0                 18.29      9   \n",
       "2                 11200.0       669.0                 43.97     30   \n",
       "3                 25000.0       669.0                 12.89      1   \n",
       "4                  3000.0       764.0                  0.58     47   \n",
       "...                   ...         ...                   ...    ...   \n",
       "1081515            3000.0       535.0                  1.54      6   \n",
       "1081516            6000.0       580.0                  5.55     43   \n",
       "1081517            3000.0       561.0                  0.00     37   \n",
       "1081518            2500.0       573.0                  8.55     34   \n",
       "1081519            2500.0       567.0                  0.00      1   \n",
       "\n",
       "         Employment_Length  Purpose  \n",
       "0                        8       17  \n",
       "1                        2        4  \n",
       "2                        0       14  \n",
       "3                       10        4  \n",
       "4                        9       12  \n",
       "...                    ...      ...  \n",
       "1081515                  5       15  \n",
       "1081516                  0        2  \n",
       "1081517                  0        4  \n",
       "1081518                  0       17  \n",
       "1081519                  2        2  \n",
       "\n",
       "[1034236 rows x 6 columns]"
      ]
     },
     "metadata": {},
     "execution_count": 46
    }
   ],
   "metadata": {}
  },
  {
   "cell_type": "code",
   "execution_count": 47,
   "source": [
    "X_train, X_test, y_train, y_test = train_test_split(X, y, test_size=.33, random_state=42)\r\n",
    "\r\n"
   ],
   "outputs": [],
   "metadata": {}
  },
  {
   "cell_type": "code",
   "execution_count": 48,
   "source": [
    "#DecisionTreeClassifier\r\n",
    "\r\n",
    "dtree= DecisionTreeClassifier (random_state=42)\r\n",
    "dtree.fit(X_train, y_train)\r\n",
    "\r\n"
   ],
   "outputs": [
    {
     "output_type": "execute_result",
     "data": {
      "text/plain": [
       "DecisionTreeClassifier(random_state=42)"
      ]
     },
     "metadata": {},
     "execution_count": 48
    }
   ],
   "metadata": {}
  },
  {
   "cell_type": "code",
   "execution_count": 49,
   "source": [
    "y_pred=dtree.predict(X_test)"
   ],
   "outputs": [],
   "metadata": {}
  },
  {
   "cell_type": "code",
   "execution_count": 50,
   "source": [
    "#What is the perfect prediction\r\n",
    "confusion_matrix(y_test, y_pred)"
   ],
   "outputs": [
    {
     "output_type": "execute_result",
     "data": {
      "text/plain": [
       "array([[145658,   3656],\n",
       "       [  3561, 188423]], dtype=int64)"
      ]
     },
     "metadata": {},
     "execution_count": 50
    }
   ],
   "metadata": {}
  },
  {
   "cell_type": "code",
   "execution_count": 51,
   "source": [
    "#Precision Score\r\n",
    "print(\"Precision Score\", average_precision_score(y_test, y_pred), \"--What percentage of predictions were correct?\")\r\n",
    "print(\"Recall\", recall_score(y_test, y_pred), \"--What percentage of positive cases did you catch?\")\r\n",
    "print(cross_val_score(dtree, X_test, y_pred, cv=5, scoring = \"accuracy\"))\r\n",
    "print(f1_score(y_test, y_pred))"
   ],
   "outputs": [
    {
     "output_type": "stream",
     "name": "stdout",
     "text": [
      "Precision Score 0.9732044890796665 --What percentage of predictions were correct?\n",
      "Recall 0.9814515792982749 --What percentage of positive cases did you catch?\n",
      "[0.97505127 0.97713156 0.97427483 0.97885993 0.97765862]\n",
      "0.9812088120959321\n"
     ]
    }
   ],
   "metadata": {}
  },
  {
   "cell_type": "code",
   "execution_count": null,
   "source": [],
   "outputs": [],
   "metadata": {}
  },
  {
   "cell_type": "code",
   "execution_count": null,
   "source": [],
   "outputs": [],
   "metadata": {}
  },
  {
   "cell_type": "code",
   "execution_count": null,
   "source": [],
   "outputs": [],
   "metadata": {}
  }
 ],
 "metadata": {
  "orig_nbformat": 4,
  "language_info": {
   "name": "python",
   "version": "3.8.5",
   "mimetype": "text/x-python",
   "codemirror_mode": {
    "name": "ipython",
    "version": 3
   },
   "pygments_lexer": "ipython3",
   "nbconvert_exporter": "python",
   "file_extension": ".py"
  },
  "kernelspec": {
   "name": "python3",
   "display_name": "Python 3.8.5 64-bit ('base': conda)"
  },
  "interpreter": {
   "hash": "438c51e0305fa72305654196dacc74c4497b43c1e33d5e4fefa24655063d3e52"
  }
 },
 "nbformat": 4,
 "nbformat_minor": 2
}